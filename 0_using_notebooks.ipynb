{
 "cells": [
  {
   "cell_type": "markdown",
   "metadata": {},
   "source": [
    "# Welcome to Jupyter Notebook\n",
    "\n",
    "This workbook is designed for you to learn the basics of navigating this notebook environment. You will learn about the different functions and tools in the tab bar above. "
   ]
  },
  {
   "cell_type": "markdown",
   "metadata": {},
   "source": [
    "## What is a cell?\n",
    "A **cell is a block in this Jupyter Notebook environment**. When you click on a cell, it should be highlighted in blue. \n",
    "\n",
    "Click *here* once to select this cell. (There should be a blue line to the left if you did this correctly)"
   ]
  },
  {
   "cell_type": "markdown",
   "metadata": {},
   "source": [
    "## Opening a cell:\n",
    "\n",
    "To open a cell (in case you want to edit it), double click on a cell. To open this cell, double-click *here*.\n",
    "\n",
    "Now you have the ability to change the text here (don't do it!). \n",
    "\n",
    "To close, **or run**, the cell, press ```Shift + Enter``` on your keyboard. \n",
    "\n",
    "Everything should be back to normal now. "
   ]
  },
  {
   "cell_type": "markdown",
   "metadata": {},
   "source": [
    "## Different Types of Cells"
   ]
  },
  {
   "cell_type": "markdown",
   "metadata": {},
   "source": [
    "### A code cell: \n",
    "A **code cell is where you will be writing your code**. This is where the magic happens! \n",
    "\n",
    "The cell below this one is a code cell. Notice the differences between *this cell* and the cell below. \n",
    "\n",
    "The key difference is that the words in a code cell will have different colors depending on what they stand for. More on that later..."
   ]
  },
  {
   "cell_type": "code",
   "execution_count": 3,
   "metadata": {},
   "outputs": [],
   "source": [
    "# This is a code cell\n",
    "\n",
    "# A code cell is where you write code\n",
    "\n",
    "# Notice this code cell has a 'In [1]:' next to it.\n",
    "# This represents this cell as the first input. "
   ]
  },
  {
   "cell_type": "markdown",
   "metadata": {},
   "source": [
    "### A markdown cell: \n",
    "A **markdown cell is where you will be writing text**. This is where you can make comments about your code and have them look like normal text. \n",
    "\n",
    "Markdown cells are important because they allow you to talk about your code within the same notebook. \n",
    "\n",
    "*Notice*: Markdown cells like this one do not have an ```In [ ]:``` next to it!\n",
    "\n",
    "I will be using markdown cells to teach you and make comments about the code!"
   ]
  },
  {
   "cell_type": "markdown",
   "metadata": {},
   "source": [
    "## Working with cells:"
   ]
  },
  {
   "cell_type": "markdown",
   "metadata": {},
   "source": [
    "### Add a cell:\n",
    "To add a cell, you need to press the ```+``` button on the tab bar above.\n",
    "\n",
    "To add a cell under another cell, you first need to click the cell you want to add a new one under. \n",
    "\n",
    "If you want to add a cell under *this cell*, highlight this cell first and then press the ```+``` button from the tab bar above. "
   ]
  },
  {
   "cell_type": "markdown",
   "metadata": {},
   "source": [
    "## A new cell will automatically be a code cell.\n",
    "\n",
    "To change a cell from a markdown to a code cell, use the drop on the tab bar.  \n",
    "\n",
    "Click the cell first, and then change the cell's type. \n",
    "\n",
    "Try not to conver the cells into ```Raw NBConvert``` or ```Heading```. We won't be using those in these notebook lessons."
   ]
  },
  {
   "cell_type": "markdown",
   "metadata": {},
   "source": [
    "## Delete a cell:\n",
    "To delete a cell, press the scissors to the right of the plus sign. But **DO NOT** delete this cell. \n",
    "\n",
    "Instead, try it on the code cells below:"
   ]
  },
  {
   "cell_type": "code",
   "execution_count": null,
   "metadata": {},
   "outputs": [],
   "source": []
  },
  {
   "cell_type": "code",
   "execution_count": null,
   "metadata": {},
   "outputs": [],
   "source": []
  },
  {
   "cell_type": "code",
   "execution_count": null,
   "metadata": {},
   "outputs": [],
   "source": []
  },
  {
   "cell_type": "markdown",
   "metadata": {},
   "source": [
    "#### If you deleted the cell above by accident, click ```Edit``` on the topmost tab bar, then click ```Undo Delete Cells```. "
   ]
  },
  {
   "cell_type": "markdown",
   "metadata": {},
   "source": [
    "## Moving cells:\n",
    "\n",
    "To move a cell up or down, use the up and down arrows on the tab bar. They are two spots to the right of the scissors. \n",
    "\n",
    "This is useful to order your code in the way you like. I use this feature a lot when making these lessons. "
   ]
  },
  {
   "cell_type": "markdown",
   "metadata": {},
   "source": [
    "# End\n",
    "\n",
    "That's all for now with this tutorial notebook. \n",
    "\n",
    "**Note**: I haven't covered a lot of the functions of the notebook. There are many other buttons that you can use, but they are used as an alternative. \n",
    "\n",
    "For example, you can press ```Run``` on the tab bar to run a code. However, I prefer to use ```Shift + Enter``` instead. \n",
    "\n",
    "Feel free to mess around with the other buttons above and learn more about this environment. \n",
    "\n",
    "\n",
    "## Saving you work: \n",
    "To save your work, you can press ```command + S``` or locate ```Save and Checkpoint``` under ```File``` in the tab bar above. "
   ]
  },
  {
   "cell_type": "markdown",
   "metadata": {},
   "source": [
    "### Developed by @stat.mi_codes\n",
    "https://www.instagram.com/stat.mi_codes/\n",
    "\n",
    "#### Your feedback and learning are important to us. Please leave us a feedback on our work! \n",
    "\n",
    "Feedback link: https://forms.gle/kQ14eq18nQvkg2s76"
   ]
  }
 ],
 "metadata": {
  "kernelspec": {
   "display_name": "Python 3",
   "language": "python",
   "name": "python3"
  },
  "language_info": {
   "codemirror_mode": {
    "name": "ipython",
    "version": 3
   },
   "file_extension": ".py",
   "mimetype": "text/x-python",
   "name": "python",
   "nbconvert_exporter": "python",
   "pygments_lexer": "ipython3",
   "version": "3.6.9"
  }
 },
 "nbformat": 4,
 "nbformat_minor": 4
}
