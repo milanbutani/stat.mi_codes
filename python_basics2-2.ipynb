{
 "cells": [
  {
   "cell_type": "markdown",
   "metadata": {},
   "source": [
    "# Welcome back!\n",
    "\n",
    "This workbook is designed for you to learn the basics of Python. There will be a few workbooks like this one designed to help you learn Python in the following parts. \n",
    "\n",
    "Please follow the notebooks in the steps below because they are designed to follow from one another:\n",
    "\n",
    "- Part 1: Basic Data Types\n",
    "- Part 2: Advance Data Types\n",
    "- Part 3: Functions\n",
    "- Part 4: Python Processes\n",
    "- Part 5: Recursion (Extra)"
   ]
  },
  {
   "cell_type": "markdown",
   "metadata": {},
   "source": [
    "## Advanced Data Types:\n",
    "\n",
    "In the previous notebook, we covered some of the basic data types in Python. Those included strings, integers, floats, and booleans. \n",
    "\n",
    "Advanced data types will be those that make use of the basic data types. These include: \n",
    "\n",
    "1. Lists or arrays \n",
    "2. Dictionaries \n",
    "3. Sets\n",
    "4. Functions\n",
    "\n",
    "This notebook will cover the everything mentioned above except for functions. That will eb the topic of the next lesson. \n",
    "\n",
    "So let's get into it..."
   ]
  },
  {
   "cell_type": "markdown",
   "metadata": {},
   "source": [
    "### List or Array: \n",
    "A list or array in Python is a collection of items. These items could be a bunch of variables or a bunch of data types.\n",
    "\n",
    "#### To create a list, use the ```[ ]``` square brackets\n",
    "Simple write type in the brackets in a code cell and then write in your items, separated by commas. \n",
    "\n",
    "Say you want to make a list that contains the numbers one to five: "
   ]
  },
  {
   "cell_type": "code",
   "execution_count": null,
   "metadata": {},
   "outputs": [],
   "source": [
    "[1, 2, 3, 4, 5]"
   ]
  },
  {
   "cell_type": "markdown",
   "metadata": {},
   "source": [
    "The code above is how you would make a list of the first five numbers. \n",
    "\n",
    "This piece of data can be stored under a variable name. \n",
    "\n",
    "Say you want to call your list ```the_first_five_ints```. Just follow the steps of variable assignment to store the list under a variable name:"
   ]
  },
  {
   "cell_type": "code",
   "execution_count": null,
   "metadata": {},
   "outputs": [],
   "source": [
    "the_first_five_ints = [1, 2, 3, 4, 5]"
   ]
  },
  {
   "cell_type": "code",
   "execution_count": null,
   "metadata": {},
   "outputs": [],
   "source": [
    "the_first_five_ints"
   ]
  },
  {
   "cell_type": "markdown",
   "metadata": {},
   "source": [
    "A list can have **multiple different data types within it**: "
   ]
  },
  {
   "cell_type": "code",
   "execution_count": null,
   "metadata": {},
   "outputs": [],
   "source": [
    "diverse_list = ['hi', 2, True, 30.4]\n",
    "diverse_list"
   ]
  },
  {
   "cell_type": "markdown",
   "metadata": {},
   "source": [
    "To check the length of the list, use the built-in ```len()``` function:"
   ]
  },
  {
   "cell_type": "code",
   "execution_count": null,
   "metadata": {},
   "outputs": [],
   "source": [
    "len(diverse_list)"
   ]
  },
  {
   "cell_type": "code",
   "execution_count": null,
   "metadata": {},
   "outputs": [],
   "source": [
    "len(the_first_five_ints)"
   ]
  },
  {
   "cell_type": "markdown",
   "metadata": {},
   "source": [
    "## Indexing:\n",
    "\n",
    "Before going into the other advanced data types, let's take a second to understand what **indexing** is. \n",
    "\n",
    "**Indexing** is useful to extract individual elements that are inside your advanced data type. \n",
    "- For example, indexing can help you find the first, second, ... ninth element in the list or array. \n",
    "\n",
    "To index into your array, you need to use the **bracket notation**. \n",
    "\n",
    "#### Bracket Notation: \n",
    "To extract an element from a list, simply type ```[]``` after typing in the variable the list is stored under. Inside the ```[]```, you need to put a number that is the location of the item you are looking for. \n",
    "- If you want the first item from your list, use the number 0. \n",
    "- If you want the second item from your list, use the number 1. \n",
    "\n",
    "This is how indexing works in Python. The index of an item will be the place of the item in the list **minus 1**. \n",
    "\n",
    "For example, if I want the third item in my ```the_first_five_ints``` array, I will write: ```the_first_five_ints[2]```"
   ]
  },
  {
   "cell_type": "code",
   "execution_count": null,
   "metadata": {},
   "outputs": [],
   "source": [
    "the_first_five_ints[2]"
   ]
  },
  {
   "cell_type": "markdown",
   "metadata": {},
   "source": [
    "### Indexing in Strings: \n",
    "You can also index into strings! \n",
    "\n",
    "If you want the first letter in the string, write ```[0]``` next to the string or its variable. \n",
    "\n",
    "For example: "
   ]
  },
  {
   "cell_type": "code",
   "execution_count": null,
   "metadata": {},
   "outputs": [],
   "source": [
    "'Milan'[0]"
   ]
  },
  {
   "cell_type": "code",
   "execution_count": null,
   "metadata": {},
   "outputs": [],
   "source": [
    "my_string = 'Milan'\n",
    "my_string[0]"
   ]
  },
  {
   "cell_type": "markdown",
   "metadata": {},
   "source": [
    "## More Indexing: \n",
    "You can also take out slices from your advanced data type or string by using the ```:```. \n",
    "\n",
    "Say you have a string ```'Milan'``` and you want the first three letters from the string. \n",
    "\n",
    "You can write ```'Milan'[0:3]``` to get the first three elements. \n",
    "\n",
    "Try it out: "
   ]
  },
  {
   "cell_type": "code",
   "execution_count": null,
   "metadata": {},
   "outputs": [],
   "source": [
    "'Milan'[0:3]"
   ]
  },
  {
   "cell_type": "markdown",
   "metadata": {},
   "source": [
    "Let's understand what happened there: \n",
    "\n",
    "- The number before the ```:``` is the location where you want to start your slice. \n",
    "- The number after the ```:``` represents the location that is after where you want to end your slice. \n",
    "\n",
    "For example, in the string ```'Milan'```, the first three letters are located at indices ```0```, ```1```, ```2```. \n",
    "\n",
    "However, we need to write ```[0:3]``` if we want to extract the first three letters. This means the number after the ```:``` is not inclusive (we do not include the letter at that location in our slice). "
   ]
  },
  {
   "cell_type": "code",
   "execution_count": null,
   "metadata": {},
   "outputs": [],
   "source": [
    "# This should get you the first four letters: \n",
    "'Milan'[0:4]"
   ]
  },
  {
   "cell_type": "code",
   "execution_count": null,
   "metadata": {},
   "outputs": [],
   "source": [
    "# If you don't specify a starting location, it will default to \n",
    "# the first letter:\n",
    "'Milan'[:3]"
   ]
  },
  {
   "cell_type": "code",
   "execution_count": null,
   "metadata": {},
   "outputs": [],
   "source": [
    "# If you don't specify an ending location, it will include everything\n",
    "# after the starting point:\n",
    "'Milan'[2:]"
   ]
  },
  {
   "cell_type": "code",
   "execution_count": null,
   "metadata": {},
   "outputs": [],
   "source": [
    "# If you don't specify an ending or starting location, the entire \n",
    "# string is returned:\n",
    "'Milan'[:]"
   ]
  },
  {
   "cell_type": "markdown",
   "metadata": {},
   "source": [
    "#### Important Rule:\n",
    "The key thing to remember is that the **number before the ```:``` is inclusive** and the **number after the ```:``` is not inclusive.**"
   ]
  },
  {
   "cell_type": "markdown",
   "metadata": {},
   "source": [
    "### Slicing with Lists:\n",
    "You can slice similarly with arrays and lists:"
   ]
  },
  {
   "cell_type": "code",
   "execution_count": null,
   "metadata": {},
   "outputs": [],
   "source": [
    "the_first_five_ints[0:2]"
   ]
  },
  {
   "cell_type": "code",
   "execution_count": null,
   "metadata": {},
   "outputs": [],
   "source": [
    "the_first_five_ints[2:]"
   ]
  },
  {
   "cell_type": "markdown",
   "metadata": {},
   "source": [
    "### Set: \n",
    "A **set** is very similar to a list, except it does not have duplicate items in it. It also **does not support indexing**. \n",
    "\n",
    "To create a set, use the **curly brackets** ```{ }```.\n",
    "\n",
    "There is also a function called ```set()``` which can turn a passed in list into a set. "
   ]
  },
  {
   "cell_type": "code",
   "execution_count": null,
   "metadata": {},
   "outputs": [],
   "source": [
    "{1, 2, 3}"
   ]
  },
  {
   "cell_type": "code",
   "execution_count": null,
   "metadata": {},
   "outputs": [],
   "source": [
    "# Notice what happens when you write this: \n",
    "\n",
    "{2, 2, 2, 2, 2}"
   ]
  },
  {
   "cell_type": "markdown",
   "metadata": {},
   "source": [
    "In the code above, all the duplicate items were removed. \n",
    "\n",
    "Now let's use the set function on our ```diverse_list```:"
   ]
  },
  {
   "cell_type": "code",
   "execution_count": null,
   "metadata": {},
   "outputs": [],
   "source": [
    "set(diverse_list)"
   ]
  },
  {
   "cell_type": "code",
   "execution_count": null,
   "metadata": {},
   "outputs": [],
   "source": [
    "# sets do not support indexing. \n",
    "\n",
    "# Run the following code, which will error, but it's fine\n",
    "# No need to fix the error\n",
    "set(diverse_list)[0]"
   ]
  },
  {
   "cell_type": "markdown",
   "metadata": {},
   "source": [
    "Notice how the brackets this time are curly. That is used to easily differentiate between a list and a set. \n",
    "\n",
    "#### Usefulness of sets: \n",
    "You will commonly use sets in the later notebooks when you work with data. \n",
    "\n",
    "Sets are useful in understanding how many unique elements are in a certain list. Because the ```set()``` function removed the duplicate values, you will always be left with the unique elements. Calling ```len()``` on it will allo you to see the number of unique items. \n",
    "\n",
    "I have commonly used set on lists to see all the unique elements in the lists I work with. "
   ]
  },
  {
   "cell_type": "markdown",
   "metadata": {},
   "source": [
    "### Dictionary: \n",
    "A **dictionary** is very similar to a list, except it has a different system for indexing. With a dictionary, you can specify what you want the \"location name\" for the index to be.\n",
    "\n",
    "**key**: is what you will write in the ```[]```\n",
    "**value**: us what will be returned when you write the corresponding key for it\n",
    "\n",
    "To create a dictionary, and use the ```:``` to differentiate a key and a value pair. use the **curly brackets** ```{ }```."
   ]
  },
  {
   "cell_type": "code",
   "execution_count": null,
   "metadata": {},
   "outputs": [],
   "source": [
    "simple_dictionary = {1:'one', 2:'two', 3:'three'}"
   ]
  },
  {
   "cell_type": "code",
   "execution_count": null,
   "metadata": {},
   "outputs": [],
   "source": [
    "simple_dictionary[1]"
   ]
  },
  {
   "cell_type": "code",
   "execution_count": null,
   "metadata": {},
   "outputs": [],
   "source": [
    "simple_dictionary[2]"
   ]
  },
  {
   "cell_type": "code",
   "execution_count": null,
   "metadata": {},
   "outputs": [],
   "source": [
    "simple_dictionary[3]"
   ]
  },
  {
   "cell_type": "markdown",
   "metadata": {},
   "source": [
    "Notice how you can have various data types in dictionaries. \n",
    "\n",
    "Also you cannot index into a dictionary using anything other than a key. "
   ]
  },
  {
   "cell_type": "code",
   "execution_count": null,
   "metadata": {},
   "outputs": [],
   "source": [
    "simple_dictionary = {'one': 1, 'two': 2, 'three': 3}"
   ]
  },
  {
   "cell_type": "markdown",
   "metadata": {},
   "source": [
    "You can separate the keys and values by using ```.keys()``` and ```.values()``` on your dictionary variable. "
   ]
  },
  {
   "cell_type": "code",
   "execution_count": null,
   "metadata": {},
   "outputs": [],
   "source": [
    "simple_dictionary.keys()"
   ]
  },
  {
   "cell_type": "code",
   "execution_count": null,
   "metadata": {},
   "outputs": [],
   "source": [
    "simple_dictionary.values()"
   ]
  },
  {
   "cell_type": "markdown",
   "metadata": {},
   "source": [
    "### Using the ```dict()``` function. \n",
    "\n",
    "You can create a dictionary by using the built-in ```dict()``` function. \n",
    "\n",
    "Before that, let's understand the ```zip()``` function. \n",
    "\n",
    "### Zipping two lists together:\n",
    "The built-in ```zip()``` function is useful to combine two lists by their corresponsing elements. "
   ]
  },
  {
   "cell_type": "code",
   "execution_count": null,
   "metadata": {},
   "outputs": [],
   "source": [
    "number_spellings = ['one', 'two', 'three']\n",
    "numbers = [1, 2, 3]"
   ]
  },
  {
   "cell_type": "markdown",
   "metadata": {},
   "source": [
    "If you wanted to pair together the spelling of the number with its corresponding number you can do the following:"
   ]
  },
  {
   "cell_type": "code",
   "execution_count": null,
   "metadata": {},
   "outputs": [],
   "source": [
    "list(zip(number_spellings, numbers))"
   ]
  },
  {
   "cell_type": "markdown",
   "metadata": {},
   "source": [
    "If you don't pass the zip into a ```list()```, the ```zip()``` function returns a zip object, which can be opened or \"unlocked\" using another function. "
   ]
  },
  {
   "cell_type": "code",
   "execution_count": null,
   "metadata": {},
   "outputs": [],
   "source": [
    "zip(number_spellings, numbers)"
   ]
  },
  {
   "cell_type": "markdown",
   "metadata": {},
   "source": [
    "You can open a zip by using the ```dict()``` function: "
   ]
  },
  {
   "cell_type": "code",
   "execution_count": null,
   "metadata": {},
   "outputs": [],
   "source": [
    "dict(zip(number_spellings, numbers))"
   ]
  },
  {
   "cell_type": "markdown",
   "metadata": {},
   "source": [
    "This is commonly how a dictionary is created using the ```dict()``` function. \n",
    "\n",
    "These tools and techniques are commonly used when preparing your data. You will be doing this in later notebooks when we work with datasets and pandas."
   ]
  },
  {
   "cell_type": "markdown",
   "metadata": {},
   "source": [
    "# End\n",
    "\n",
    "That's all for now with this advanced data type notebook. \n",
    "\n",
    "Feel free to mess around with and solidy your understandings with code cells! \n",
    "\n",
    "See you in the next notebook!"
   ]
  },
  {
   "cell_type": "markdown",
   "metadata": {},
   "source": [
    "### Developed by Milan Butain @stat.mi_codes\n",
    "https://www.instagram.com/stat.mi_codes/\n",
    "\n",
    "#### Your feedback and learning are important to us. Please leave us a feedback on our work, and like and comment our post about this notebook! \n",
    "\n",
    "Feedback link: https://forms.gle/kQ14eq18nQvkg2s76"
   ]
  }
 ],
 "metadata": {
  "kernelspec": {
   "display_name": "Python 3",
   "language": "python",
   "name": "python3"
  },
  "language_info": {
   "codemirror_mode": {
    "name": "ipython",
    "version": 3
   },
   "file_extension": ".py",
   "mimetype": "text/x-python",
   "name": "python",
   "nbconvert_exporter": "python",
   "pygments_lexer": "ipython3",
   "version": "3.6.9"
  }
 },
 "nbformat": 4,
 "nbformat_minor": 4
}
